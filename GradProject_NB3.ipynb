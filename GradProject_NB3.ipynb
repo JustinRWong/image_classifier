{
 "cells": [
  {
   "cell_type": "markdown",
   "metadata": {},
   "source": [
    "\n",
    "<h1> DS200A Computer Vision Assignment</h1>"
   ]
  },
  {
   "cell_type": "markdown",
   "metadata": {},
   "source": [
    "<h2>  Part Three: Classifier training and performance assessment. </h2>\t"
   ]
  },
  {
   "cell_type": "code",
   "execution_count": 3,
   "metadata": {},
   "outputs": [],
   "source": [
    "from sklearn.model_selection import train_test_split\n",
    "\n",
    "# Split the data into a training set, and test set \n",
    "def train_test_split(df):\n",
    "    X_train, X_test, y_train, y_test = train_test_split(X, y, test_size=0.30, random_state=42)\n",
    "    return X_train, X_test, y_train, y_test\n",
    "\n",
    "# Calculate the accuracy percentage of the predicted values\n",
    "def accuracy(pred, actual):\n",
    "    return 0"
   ]
  },
  {
   "cell_type": "markdown",
   "metadata": {},
   "source": [
    "<h3>  Train models using all of the following methods below. Be sure to drop the actual image column, and the encoding</h3>\t\n",
    "\n",
    "Take note of the differences in accuracy, and methods.\n"
   ]
  },
  {
   "cell_type": "markdown",
   "metadata": {},
   "source": [
    "<h3> Step 1: Import Packages for Methods, and Define Methods for Accuracy </h3>"
   ]
  },
  {
   "cell_type": "code",
   "execution_count": null,
   "metadata": {},
   "outputs": [],
   "source": [
    "from sklearn.linear_model import LogisticRegression\n",
    "from sklearn.neighbors import KNeighborsClassifier\n",
    "from sklearn import tree\n",
    "from sklearn.ensemble import RandomForestClassifier\n",
    "from sklearn.datasets import make_classification\n",
    "from sklearn.svm import SVC"
   ]
  },
  {
   "cell_type": "code",
   "execution_count": 6,
   "metadata": {},
   "outputs": [],
   "source": [
    "# Defining rmse:\n",
    "def rmse(predicted, actual):\n",
    "    return (sum((predicted - actual)**2/len(predicted)))**(1/2) "
   ]
  },
  {
   "cell_type": "markdown",
   "metadata": {},
   "source": [
    "<h3> Step 2: Analyzing Methods </h3>"
   ]
  },
  {
   "cell_type": "markdown",
   "metadata": {},
   "source": [
    "Logistic Regression"
   ]
  },
  {
   "cell_type": "code",
   "execution_count": 18,
   "metadata": {},
   "outputs": [],
   "source": [
    "# Training logistic regression:\n",
    "def model_linear_regression(x_train, x_test, y_train, y_test):\n",
    "    \"\"\" \n",
    "    Trains linear regression model:\n",
    "    x_train, x_test = matrix of values\n",
    "    y_train, y_test = array of values\n",
    "    \n",
    "    \"\"\"\n",
    "    model_lin = LogisticRegression(random_state = 0).fit(x_train, y_train)\n",
    "    y_pred_train = model_lin.predict(x_train)\n",
    "    y_pred_test = model_lin.predict(x_test)\n",
    "    print(\"The training RMSE is:\", rmse(y_pred_train, y_train))\n",
    "    print(\"The test RMSE is:\", rmse(y_pred_test, y_test))"
   ]
  },
  {
   "cell_type": "markdown",
   "metadata": {},
   "source": [
    "K-nearest Neighbors"
   ]
  },
  {
   "cell_type": "code",
   "execution_count": null,
   "metadata": {
    "collapsed": true
   },
   "outputs": [],
   "source": [
    "# Training k-nearest neighbors:\n",
    "def model_k_nearest_neighbors(x_train, x_test, y_train, y_test):\n",
    "    \"\"\" \n",
    "    Trains k-nearest neighbors model:\n",
    "    x_train, x_test = matrix of values\n",
    "    y_train, y_test = array of values\n",
    "    \n",
    "    \"\"\"\n",
    "    model_k_nearest = KNeighborsClassifier(n_neighbors = 5, metric = eu).fit(x_train, y_train)\n",
    "    y_pred_train = model_k_nearest.predict(x_train)\n",
    "    y_pred_test = model_k_nearest.predict(x_test)\n",
    "    print(\"The training RMSE is:\", rmse(y_pred_train, y_train))\n",
    "    print(\"The test RMSE is:\", rmse(y_pred_test, y_test))"
   ]
  },
  {
   "cell_type": "markdown",
   "metadata": {},
   "source": [
    "Classification Tree"
   ]
  },
  {
   "cell_type": "code",
   "execution_count": null,
   "metadata": {
    "collapsed": true
   },
   "outputs": [],
   "source": [
    "# Training classification tree:\n",
    "def model_classification_tree(x_train, x_test, y_train, y_test):\n",
    "    \"\"\" \n",
    "    Trains classification tree model:\n",
    "    x_train, x_test = matrix of values\n",
    "    y_train, y_test = array of values\n",
    "    \n",
    "    \"\"\"\n",
    "    model_class = tree.DecisionTreeClassifier().fit(x_train, y_train)\n",
    "    y_pred_train = model_class.predict(x_train)\n",
    "    y_pred_test = model_class.predict(x_test)\n",
    "    print(\"The training RMSE is:\", rmse(y_pred_train, y_train))\n",
    "    print(\"The test RMSE is:\", rmse(y_pred_test, y_test))"
   ]
  },
  {
   "cell_type": "markdown",
   "metadata": {},
   "source": [
    "Random Forest"
   ]
  },
  {
   "cell_type": "code",
   "execution_count": null,
   "metadata": {
    "collapsed": true
   },
   "outputs": [],
   "source": [
    "# Training random forest:\n",
    "def model_random_forest(x_train, x_test, y_train, y_test):\n",
    "    \"\"\" \n",
    "    Trains random forest model:\n",
    "    x_train, x_test = matrix of values\n",
    "    y_train, y_test = array of values\n",
    "    \n",
    "    \"\"\"\n",
    "    X, y = make_classification(n_samples=1000, n_features=4, n_informative=2, n_redundant=0, random_state=0, shuffle=False)\n",
    "    model_rf = RandomForestClassifier(max_depth=2, random_state=0)\n",
    "    y_pred_train = model_rf.predict(x_train)\n",
    "    y_pred_test = model_rf.predict(x_test)\n",
    "    print(\"The training RMSE is:\", rmse(y_pred_train, y_train))\n",
    "    print(\"The test RMSE is:\", rmse(y_pred_test, y_test))"
   ]
  },
  {
   "cell_type": "markdown",
   "metadata": {},
   "source": [
    "Support Vector Machine"
   ]
  },
  {
   "cell_type": "code",
   "execution_count": null,
   "metadata": {
    "collapsed": true
   },
   "outputs": [],
   "source": [
    "# Training support vector machine: \n",
    "def model_svm(x_train, x_test, y_train, y_test):\n",
    "    \"\"\" \n",
    "    Trains support vector machine model:\n",
    "    x_train, x_test = matrix of values\n",
    "    y_train, y_test = array of values\n",
    "    \n",
    "    \"\"\"\n",
    "    model_svm = SVC(gamma='auto')\n",
    "    model_svm.fit(X, y)\n",
    "    y_pred_train = model_svm.predict(x_train)\n",
    "    y_pred_test = model_svm.predict(x_test)\n",
    "    print(\"The training RMSE is:\", rmse(y_pred_train, y_train))\n",
    "    print(\"The test RMSE is:\", rmse(y_pred_test, y_test))"
   ]
  }
 ],
 "metadata": {
  "kernelspec": {
   "display_name": "Python 3",
   "language": "python",
   "name": "python3"
  },
  "language_info": {
   "codemirror_mode": {
    "name": "ipython",
    "version": 3
   },
   "file_extension": ".py",
   "mimetype": "text/x-python",
   "name": "python",
   "nbconvert_exporter": "python",
   "pygments_lexer": "ipython3",
   "version": "3.6.8"
  }
 },
 "nbformat": 4,
 "nbformat_minor": 2
}
